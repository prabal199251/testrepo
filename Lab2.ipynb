{
 "cells": [
  {
   "cell_type": "markdown",
   "id": "01dab0f8",
   "metadata": {},
   "source": [
    "### Guess the word game\n"
   ]
  },
  {
   "cell_type": "code",
   "execution_count": 26,
   "id": "1f5f2a18",
   "metadata": {},
   "outputs": [
    {
     "name": "stdout",
     "output_type": "stream",
     "text": [
      "Enter the lower bound of the range: 1\n",
      "Enter the upper bound of the range: 50\n",
      "Welcome to the 'Guess the Number' Game!\n",
      "You have 6 attempts.\n",
      "Enter your guess: 25\n",
      "Too high! Try again.\n",
      "Enter your guess: 12\n",
      "Too low! Try again.\n",
      "Enter your guess: 18\n",
      "Congratulations! You guessed the number 18 in 3 attempts.\n"
     ]
    }
   ],
   "source": [
    "import random\n",
    "import math\n",
    "\n",
    "def guess_the_number():\n",
    "    \n",
    "    l_bound = int(input(\"Enter the lower bound of the range: \"))\n",
    "    u_bound = int(input(\"Enter the upper bound of the range: \"))\n",
    "    \n",
    "    secret_number = random.randint(l_bound, u_bound)\n",
    "    \n",
    "    maxAttempts = math.ceil(math.log2(u_bound - l_bound))\n",
    "    attempts = 0\n",
    "\n",
    "    print(\"Welcome to the 'Guess the Number' Game!\")\n",
    "    print(\"You have\", maxAttempts, \"attempts.\")\n",
    "\n",
    "    while True:\n",
    "        if maxAttempts <=0:\n",
    "            print(\"Maximum attempts reached! You Failed.\")\n",
    "            break\n",
    "\n",
    "        user_guess = int(input(\"Enter your guess: \"))\n",
    "        \n",
    "        attempts += 1\n",
    "        maxAttempts -= 1\n",
    "\n",
    "        if user_guess == secret_number:\n",
    "            print(\"Congratulations! You guessed the number\", secret_number, \"in\", attempts, \"attempts.\")\n",
    "            break\n",
    "        elif user_guess < secret_number:\n",
    "            print(\"Too low! Try again.\")\n",
    "        else:\n",
    "            print(\"Too high! Try again.\")\n",
    "\n",
    "\n",
    "guess_the_number()\n"
   ]
  },
  {
   "cell_type": "markdown",
   "id": "a96fb227",
   "metadata": {},
   "source": [
    "### Program to input a number then add all the digits recursively until result is single digit"
   ]
  },
  {
   "cell_type": "code",
   "execution_count": 27,
   "id": "b9a473ab",
   "metadata": {},
   "outputs": [
    {
     "name": "stdout",
     "output_type": "stream",
     "text": [
      "Enter the number: 12345\n",
      "6\n"
     ]
    }
   ],
   "source": [
    "def digitSum(no):\n",
    "    sum = 0\n",
    "    for digit in str(no): \n",
    "        sum += int(digit)\n",
    "    return sum\n",
    "\n",
    "def getSum(no):\n",
    "    while no > 10:\n",
    "        no = digitSum(no)\n",
    "    return no\n",
    "\n",
    "no = int(input(\"Enter the number: \"))\n",
    "print(getSum(no))\n"
   ]
  },
  {
   "cell_type": "code",
   "execution_count": null,
   "id": "c852ca20",
   "metadata": {},
   "outputs": [],
   "source": []
  }
 ],
 "metadata": {
  "kernelspec": {
   "display_name": "Python 3 (ipykernel)",
   "language": "python",
   "name": "python3"
  },
  "language_info": {
   "codemirror_mode": {
    "name": "ipython",
    "version": 3
   },
   "file_extension": ".py",
   "mimetype": "text/x-python",
   "name": "python",
   "nbconvert_exporter": "python",
   "pygments_lexer": "ipython3",
   "version": "3.10.9"
  }
 },
 "nbformat": 4,
 "nbformat_minor": 5
}
